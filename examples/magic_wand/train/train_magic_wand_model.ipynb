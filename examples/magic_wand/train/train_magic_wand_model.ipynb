{
 "cells": [
  {
   "cell_type": "code",
   "execution_count": 1,
   "metadata": {
    "executionInfo": {
     "elapsed": 179,
     "status": "ok",
     "timestamp": 1638745473565,
     "user": {
      "displayName": "David Davis",
      "photoUrl": "https://lh3.googleusercontent.com/a/default-user=s64",
      "userId": "03716636181783186066"
     },
     "user_tz": 480
    },
    "id": "0g1pF6RfViPr"
   },
   "outputs": [],
   "source": [
    "import os\n",
    "# TYPE=\"Default\" #Default, or other custom foldername\n",
    "TYPE=\"MyFoler\"\n",
    "isWINDOWS=True\n",
    "if \"Default\"==TYPE:\n",
    "    ROOT_FOLDER=\"Default\"\n",
    "    LABEL_MAPPING=dict(enumerate([str(i) for i in range(10)]))\n",
    "    \n",
    "else:\n",
    "    ROOT_FOLDER=TYPE\n",
    "    LABEL_MAPPING=dict(enumerate([\"down\", \"left\", \"ok\", \"right\", \"up\"]))\n",
    "    \n",
    "#-------Data    \n",
    "RAW_DATASET_FOLDER=os.path.join(ROOT_FOLDER, \"raw_dataset\")\n",
    "\n",
    "#-------Train\n",
    "VAL_FOLDER=os.path.join(ROOT_FOLDER, \"validation\")\n",
    "TRAIN_FOLDER=os.path.join(ROOT_FOLDER, \"train\")\n",
    "TEST_FOLDER=os.path.join(ROOT_FOLDER, \"test\")\n",
    "CHECK_POINT_FOLDER=os.path.join(ROOT_FOLDER, \"checkpoints\")\n",
    "\n",
    "#-------Model\n",
    "SAVED_MODEL_FILENAME = \"saved_model\"\n",
    "FLOAT_TFL_MODEL_FILENAME = \"float_model.tfl\"\n",
    "QUANTIZED_TFL_MODEL_FILENAME = \"quantized_model.tfl\"\n",
    "TFL_CC_MODEL_FILENAME = \"magic_wand_model_data.cc\"\n",
    "\n",
    "SAVED_MODEL_PATH=os.path.join(ROOT_FOLDER, SAVED_MODEL_FILENAME)\n",
    "FLOAT_TFL_MODEL_PATH=os.path.join(ROOT_FOLDER, FLOAT_TFL_MODEL_FILENAME)\n",
    "QUANTIZED_TFL_MODEL_PATH=os.path.join(ROOT_FOLDER, QUANTIZED_TFL_MODEL_FILENAME)\n",
    "TFL_CC_MODEL_PATH=os.path.join(ROOT_FOLDER, TFL_CC_MODEL_FILENAME)"
   ]
  },
  {
   "cell_type": "code",
   "execution_count": 2,
   "metadata": {
    "colab": {
     "base_uri": "https://localhost:8080/"
    },
    "executionInfo": {
     "elapsed": 2072,
     "status": "ok",
     "timestamp": 1638745477856,
     "user": {
      "displayName": "David Davis",
      "photoUrl": "https://lh3.googleusercontent.com/a/default-user=s64",
      "userId": "03716636181783186066"
     },
     "user_tz": 480
    },
    "id": "xvPo0OP0TFDq",
    "outputId": "2b44a027-1c9a-46aa-9660-57db546c8f75"
   },
   "outputs": [
    {
     "name": "stdout",
     "output_type": "stream",
     "text": [
      "Nothing here\n"
     ]
    }
   ],
   "source": [
    "###############################################\n",
    "## download json data (\"Default\"==TYPE only)\n",
    "###############################################\n",
    "import shutil\n",
    "\n",
    "if \"Default\"==TYPE:\n",
    "    os.makedirs(ROOT_FOLDER, exist_ok=True)\n",
    "    zipfile=ROOT_FOLDER + os.sep + \"__magic_wand_digit_data.zip\"\n",
    "    !curl -L https://github.com/petewarden/magic_wand_digit_data/archive/8170591863f9addca27b1a963263f7c7bed33f41.zip -o {zipfile}\n",
    "    try:\n",
    "        shutil.rmtree(os.path.join(ROOT_FOLDER, \"magic_wand_digit_data-8170591863f9addca27b1a963263f7c7bed33f41\"))\n",
    "    except:\n",
    "        pass\n",
    "    if isWINDOWS:\n",
    "        # ! forfiles /P .{os.sep}{ROOT_FOLDER}{os.sep} /M magic_wand_digit_data* /C \"cmd /c if @isdir==TRUE rmdir /s /q @file\"\n",
    "        !tar -xf {zipfile} -C {ROOT_FOLDER}{os.sep} && del /Q {zipfile}\n",
    "    else:\n",
    "        !unzip {zipfile} -d {ROOT_FOLDER}{os.sep} && rm -f {zipfile}\n",
    "    try:\n",
    "        shutil.rmtree(RAW_DATASET_FOLDER)\n",
    "    except:\n",
    "        pass\n",
    "\n",
    "    os.rename(os.path.join(ROOT_FOLDER, \"magic_wand_digit_data-8170591863f9addca27b1a963263f7c7bed33f41\"), RAW_DATASET_FOLDER)\n",
    "    try:\n",
    "        shutil.rmtree(CHECK_POINT_FOLDER)\n",
    "    except:\n",
    "        pass\n",
    "    \n",
    "    os.makedirs(CHECK_POINT_FOLDER, exist_ok=True)\n",
    "else:\n",
    "    print(\"Nothing here\")"
   ]
  },
  {
   "cell_type": "code",
   "execution_count": 3,
   "metadata": {},
   "outputs": [
    {
     "name": "stdout",
     "output_type": "stream",
     "text": [
      "Please manually copy json to MyFoler\\raw_dataset, don't forget to modify \"label\":\"\" in json files \n"
     ]
    }
   ],
   "source": [
    "###############################################\n",
    "## prepare json data (\"Default\"!=TYPE only)\n",
    "###############################################\n",
    "\n",
    "import shutil\n",
    "if \"Default\"!=TYPE:\n",
    "    os.makedirs(ROOT_FOLDER, exist_ok=True)\n",
    "    os.makedirs(RAW_DATASET_FOLDER, exist_ok=True)\n",
    "    os.makedirs(CHECK_POINT_FOLDER, exist_ok=True)\n",
    "    print(f\"Please manually copy json to {RAW_DATASET_FOLDER}, don't forget to modify \\\"label\\\":\\\"\\\" in json files \")\n",
    "else:\n",
    "    print(\"Nothing here\")"
   ]
  },
  {
   "cell_type": "code",
   "execution_count": 4,
   "metadata": {
    "executionInfo": {
     "elapsed": 166,
     "status": "ok",
     "timestamp": 1638745496968,
     "user": {
      "displayName": "David Davis",
      "photoUrl": "https://lh3.googleusercontent.com/a/default-user=s64",
      "userId": "03716636181783186066"
     },
     "user_tz": 480
    },
    "id": "mWO58-igVFSd"
   },
   "outputs": [],
   "source": [
    "###############################################\n",
    "## Load all *.json\n",
    "###############################################\n",
    "import glob\n",
    "import json\n",
    "\n",
    "strokes = []\n",
    "for filename in glob.glob(RAW_DATASET_FOLDER+os.sep+\"*.json\"):\n",
    "  with open(filename, \"r\") as file:\n",
    "    file_contents = file.read()\n",
    "  file_data = json.loads(file_contents)\n",
    "  for stroke in file_data[\"strokes\"]:\n",
    "    stroke[\"filename\"] = filename\n",
    "    strokes.append(stroke)"
   ]
  },
  {
   "cell_type": "code",
   "execution_count": 5,
   "metadata": {
    "executionInfo": {
     "elapsed": 171,
     "status": "ok",
     "timestamp": 1638745501162,
     "user": {
      "displayName": "David Davis",
      "photoUrl": "https://lh3.googleusercontent.com/a/default-user=s64",
      "userId": "03716636181783186066"
     },
     "user_tz": 480
    },
    "id": "xfLzrpyLVJ5S"
   },
   "outputs": [],
   "source": [
    "## (Optional) print stroke\n",
    "import matplotlib.pyplot as plt\n",
    "\n",
    "def plot_stroke(stroke):\n",
    "\n",
    "  x_array = []\n",
    "  y_array = []\n",
    "  for coords in stroke[\"strokePoints\"]:\n",
    "    x_array.append(coords[\"x\"])\n",
    "    y_array.append(coords[\"y\"])\n",
    "\n",
    "  fig = plt.figure(figsize=(24, 6))\n",
    "  fig.suptitle(stroke[\"label\"])\n",
    "\n",
    "  ax = fig.add_subplot(131)\n",
    "  ax.set_xlabel('x')\n",
    "  ax.set_ylabel('y')\n",
    "  ax.set_xlim(-0.4, 0.4)\n",
    "  ax.set_ylim(-0.4, 0.4)\n",
    "  ax.plot(x_array, y_array)\n",
    "\n",
    "  plt.show()"
   ]
  },
  {
   "cell_type": "code",
   "execution_count": 6,
   "metadata": {
    "colab": {
     "base_uri": "https://localhost:8080/",
     "height": 391
    },
    "executionInfo": {
     "elapsed": 466,
     "status": "ok",
     "timestamp": 1638746177871,
     "user": {
      "displayName": "David Davis",
      "photoUrl": "https://lh3.googleusercontent.com/a/default-user=s64",
      "userId": "03716636181783186066"
     },
     "user_tz": 480
    },
    "id": "dveZd2ZuW-jl",
    "outputId": "ab8d5f8e-d753-49eb-fc06-607944f55e86"
   },
   "outputs": [
    {
     "data": {
      "image/png": "[encoded data removed]",
      "text/plain": [
       "<Figure size 1728x432 with 1 Axes>"
      ]
     },
     "metadata": {
      "needs_background": "light"
     },
     "output_type": "display_data"
    },
    {
     "name": "stdout",
     "output_type": "stream",
     "text": [
      "This stroke: 77\n",
      "All strokes: min 46 max 108 avg 65.34352517985612\n"
     ]
    }
   ],
   "source": [
    "## (Optional) print stroke\n",
    "import numpy as np\n",
    "shuffled_strokes = list(strokes)\n",
    "np.random.shuffle(shuffled_strokes)\n",
    "plot_stroke(shuffled_strokes[0])\n",
    "print(f\"This stroke: {len(shuffled_strokes[0]['strokePoints'])}\")\n",
    "func = lambda x: len(x[\"strokePoints\"])\n",
    "values = list(map(func, strokes))\n",
    "print(f\"All strokes: min {np.min(values)} max {np.max(values)} avg {np.average(values)}\")"
   ]
  },
  {
   "cell_type": "code",
   "execution_count": 7,
   "metadata": {
    "executionInfo": {
     "elapsed": 192,
     "status": "ok",
     "timestamp": 1638746658017,
     "user": {
      "displayName": "David Davis",
      "photoUrl": "https://lh3.googleusercontent.com/a/default-user=s64",
      "userId": "03716636181783186066"
     },
     "user_tz": 480
    },
    "id": "3FVPj-eqjvoB"
   },
   "outputs": [],
   "source": [
    "###############################################\n",
    "## Add stroke sequence color\n",
    "###############################################\n",
    "import math\n",
    "import numpy as np\n",
    "import PIL\n",
    "\n",
    "FIXED_POINT = 4096\n",
    "\n",
    "def mul_fp(a, b):\n",
    "  return (a * b) // FIXED_POINT\n",
    "\n",
    "def div_fp(a, b):\n",
    "  if b == 0:\n",
    "    b = 1\n",
    "  return (a * FIXED_POINT) // b\n",
    "\n",
    "def float_to_fp(a):\n",
    "  return math.floor(a * FIXED_POINT)\n",
    "\n",
    "def norm_to_coord_fp(a, range_fp, half_size_fp):\n",
    "  a_fp = float_to_fp(a)\n",
    "  norm_fp = div_fp(a_fp, range_fp)\n",
    "  return mul_fp(norm_fp, half_size_fp) + half_size_fp\n",
    "\n",
    "# 四捨五入 (rounding)\n",
    "def round_fp_to_int(a):\n",
    "  return math.floor((a + (FIXED_POINT / 2)) / FIXED_POINT)\n",
    "\n",
    "def gate(a, min, max):\n",
    "  if a < min:\n",
    "    return min\n",
    "  elif a > max:\n",
    "    return max\n",
    "  else:\n",
    "    return a\n",
    "\n",
    "def rasterize_stroke(stroke_points, x_range, y_range, width, height):\n",
    "  num_channels = 3\n",
    "  buffer_byte_count = height * width * num_channels\n",
    "  buffer = bytearray(buffer_byte_count)\n",
    "\n",
    "  width_fp = width * FIXED_POINT\n",
    "  height_fp = height * FIXED_POINT\n",
    "  half_width_fp = width_fp / 2\n",
    "  half_height_fp = height_fp / 2\n",
    "  x_range_fp = float_to_fp(x_range)\n",
    "  y_range_fp = float_to_fp(y_range)\n",
    "\n",
    "  t_inc_fp = FIXED_POINT // len(stroke_points)\n",
    "\n",
    "  one_half_fp = (FIXED_POINT / 2)\n",
    "\n",
    "  for point_index in range(len(stroke_points) - 1):\n",
    "    start_point = stroke_points[point_index]\n",
    "    end_point = stroke_points[point_index + 1]\n",
    "    start_x_fp = norm_to_coord_fp(start_point[\"x\"], x_range_fp, half_width_fp)\n",
    "    start_y_fp = norm_to_coord_fp(-start_point[\"y\"], y_range_fp, half_height_fp)\n",
    "    end_x_fp = norm_to_coord_fp(end_point[\"x\"], x_range_fp, half_width_fp)\n",
    "    end_y_fp = norm_to_coord_fp(-end_point[\"y\"], y_range_fp, half_height_fp)\n",
    "    delta_x_fp = end_x_fp - start_x_fp\n",
    "    delta_y_fp = end_y_fp - start_y_fp\n",
    "\n",
    "    # This just want to add a Gradient color\n",
    "    # red->green->blue\n",
    "    t_fp = point_index * t_inc_fp\n",
    "    if t_fp < one_half_fp:\n",
    "      local_t_fp = div_fp(t_fp, one_half_fp)\n",
    "      one_minus_t_fp = FIXED_POINT - local_t_fp\n",
    "      red = round_fp_to_int(one_minus_t_fp * 255)\n",
    "      green = round_fp_to_int(local_t_fp * 255)\n",
    "      blue = 0\n",
    "    else:\n",
    "      local_t_fp = div_fp(t_fp - one_half_fp, one_half_fp)\n",
    "      one_minus_t_fp = FIXED_POINT - local_t_fp\n",
    "      red = 0\n",
    "      green = round_fp_to_int(one_minus_t_fp * 255)\n",
    "      blue = round_fp_to_int(local_t_fp * 255)\n",
    "    red = gate(red, 0, 255)\n",
    "    green = gate(green, 0, 255)\n",
    "    blue = gate(blue, 0, 255)\n",
    "\n",
    "    #  mainly horizontal\n",
    "    if abs(delta_x_fp) > abs(delta_y_fp):\n",
    "      line_length = abs(round_fp_to_int(delta_x_fp))\n",
    "      if delta_x_fp > 0:\n",
    "        x_inc_fp = 1 * FIXED_POINT\n",
    "        y_inc_fp = div_fp(delta_y_fp, delta_x_fp)\n",
    "      else:\n",
    "        x_inc_fp = -1 * FIXED_POINT\n",
    "        y_inc_fp = -div_fp(delta_y_fp, delta_x_fp)\n",
    "    #  mainly vertical\n",
    "    else:\n",
    "      line_length = abs(round_fp_to_int(delta_y_fp))\n",
    "      if delta_y_fp > 0:\n",
    "        y_inc_fp = 1 * FIXED_POINT\n",
    "        x_inc_fp = div_fp(delta_x_fp, delta_y_fp)\n",
    "      else:\n",
    "        y_inc_fp = -1 * FIXED_POINT\n",
    "        x_inc_fp = -div_fp(delta_x_fp, delta_y_fp)\n",
    "    for i in range(line_length + 1):\n",
    "      x_fp = start_x_fp + (i * x_inc_fp)\n",
    "      y_fp = start_y_fp + (i * y_inc_fp)\n",
    "      x = round_fp_to_int(x_fp)\n",
    "      y = round_fp_to_int(y_fp)\n",
    "      if (x < 0) or (x >= width) or (y < 0) or (y >= height):\n",
    "        continue\n",
    "      buffer_index = (y * width * num_channels) + (x * num_channels)\n",
    "      buffer[buffer_index + 0] = red\n",
    "      buffer[buffer_index + 1] = green\n",
    "      buffer[buffer_index + 2] = blue\n",
    "  \n",
    "  np_buffer = np.frombuffer(buffer, dtype=np.uint8).reshape(height, width, num_channels)\n",
    "\n",
    "  return np_buffer"
   ]
  },
  {
   "cell_type": "code",
   "execution_count": 8,
   "metadata": {
    "colab": {
     "base_uri": "https://localhost:8080/",
     "height": 529
    },
    "executionInfo": {
     "elapsed": 165,
     "status": "ok",
     "timestamp": 1638746717413,
     "user": {
      "displayName": "David Davis",
      "photoUrl": "https://lh3.googleusercontent.com/a/default-user=s64",
      "userId": "03716636181783186066"
     },
     "user_tz": 480
    },
    "id": "sOaxOIjRskJg",
    "outputId": "9f3e55ad-2c1e-4441-cdc8-fabc272e3b50"
   },
   "outputs": [
    {
     "data": {
      "image/png": "[encoded data removed]",
      "text/plain": [
       "<PIL.Image.Image image mode=RGB size=128x128 at 0x1A853C97D90>"
      ]
     },
     "metadata": {},
     "output_type": "display_data"
    }
   ],
   "source": [
    "## (Optional) test rasterize_stroke\n",
    "raster = rasterize_stroke(shuffled_strokes[0][\"strokePoints\"], 0.5, 0.5, 32, 32)\n",
    "img = PIL.Image.fromarray(raster).resize((128, 128), PIL.Image.NEAREST)\n",
    "display(img)"
   ]
  },
  {
   "cell_type": "code",
   "execution_count": 9,
   "metadata": {
    "executionInfo": {
     "elapsed": 150,
     "status": "ok",
     "timestamp": 1638746921132,
     "user": {
      "displayName": "David Davis",
      "photoUrl": "https://lh3.googleusercontent.com/a/default-user=s64",
      "userId": "03716636181783186066"
     },
     "user_tz": 480
    },
    "id": "o-FOVdFpgkdf"
   },
   "outputs": [],
   "source": [
    "###############################################\n",
    "## function def: save strokes (and augmentations) data to png\n",
    "###############################################\n",
    "from pathlib import Path\n",
    "import shutil\n",
    "\n",
    "X_RANGE = 0.6\n",
    "Y_RANGE = 0.6\n",
    "\n",
    "def ensure_empty_dir(dirname):\n",
    "  dirpath = Path(dirname)\n",
    "  if dirpath.exists() and dirpath.is_dir():\n",
    "    shutil.rmtree(dirpath)\n",
    "  dirpath.mkdir()\n",
    "\n",
    "# Augmentation\n",
    "def augment_points(points, move_range, scale_range, rotate_range):\n",
    "  move_x = np.random.uniform(low=-move_range, high=move_range)\n",
    "  move_y = np.random.uniform(low=-move_range, high=move_range)\n",
    "  scale = np.random.uniform(low=1.0-scale_range, high=1.0+scale_range)\n",
    "  rotate = np.random.uniform(low=-rotate_range, high=rotate_range)\n",
    "\n",
    "  x_axis_x = math.cos(rotate) * scale\n",
    "  x_axis_y = math.sin(rotate) * scale\n",
    "\n",
    "  y_axis_x = -math.sin(rotate) * scale\n",
    "  y_axis_y = math.cos(rotate) * scale\n",
    "\n",
    "  new_points = []\n",
    "  for point in points:\n",
    "    old_x = point[\"x\"]\n",
    "    old_y = point[\"y\"]\n",
    "    new_x = (x_axis_x * old_x) + (x_axis_y * old_y) + move_x\n",
    "    new_y = (y_axis_x * old_x) + (y_axis_y * old_y) + move_y\n",
    "    new_points.append({\"x\": new_x, \"y\": new_y})\n",
    "\n",
    "  return new_points\n",
    "\n",
    "def save_strokes_as_images(strokes, root_folder, width, height, augment_count):\n",
    "  ensure_empty_dir(root_folder)\n",
    "  labels = set()\n",
    "  for stroke in strokes:\n",
    "    labels.add(stroke[\"label\"].lower())\n",
    "  for label in labels:\n",
    "    label_path = Path(root_folder, label)\n",
    "    ensure_empty_dir(label_path)\n",
    "\n",
    "  label_counts = {}\n",
    "  for stroke in strokes:\n",
    "    points = stroke[\"strokePoints\"]\n",
    "    label = stroke[\"label\"].lower()\n",
    "    if label == \"\":\n",
    "      raise Exception(\"Missing label for %s:%d\" % (stroke[\"filename\"], stroke[\"index\"]))\n",
    "    if label not in label_counts:\n",
    "      label_counts[label] = 0\n",
    "    label_count = label_counts[label]\n",
    "    label_counts[label] += 1\n",
    "    raster = rasterize_stroke(points, X_RANGE, Y_RANGE, width, height)\n",
    "    image = PIL.Image.fromarray(raster)\n",
    "    image.save(Path(root_folder, label, str(label_count) + \".png\"))\n",
    "    for i in range(augment_count):\n",
    "      # Note: no move augmentation as the stroke should be more or less\n",
    "      # centered within the raster\n",
    "      augmented_points = augment_points(points, 0.0, 0.1, 0.3)\n",
    "      raster = rasterize_stroke(augmented_points, X_RANGE, Y_RANGE, width, height)\n",
    "      image = PIL.Image.fromarray(raster)\n",
    "      image.save(Path(root_folder, label, str(label_count) + \"_a\" + str(i) + \".png\"))\n"
   ]
  },
  {
   "cell_type": "code",
   "execution_count": 10,
   "metadata": {
    "executionInfo": {
     "elapsed": 13446,
     "status": "ok",
     "timestamp": 1638747505532,
     "user": {
      "displayName": "David Davis",
      "photoUrl": "https://lh3.googleusercontent.com/a/default-user=s64",
      "userId": "03716636181783186066"
     },
     "user_tz": 480
    },
    "id": "2cmmhBwW9d_p"
   },
   "outputs": [
    {
     "name": "stdout",
     "output_type": "stream",
     "text": [
      "preparing data... MyFoler\\test\n",
      "preparing data... MyFoler\\validation\n",
      "preparing data... MyFoler\\train\n"
     ]
    }
   ],
   "source": [
    "###############################################\n",
    "## Separate all strokes data to 3 png folders (The json is from ../magic_wand/website/index.html)\n",
    "###############################################\n",
    "IMAGE_WIDTH = 32\n",
    "IMAGE_HEIGHT = 32\n",
    "\n",
    "shuffled_strokes = list(strokes)\n",
    "np.random.shuffle(shuffled_strokes)\n",
    "\n",
    "test_percentage = 10\n",
    "validation_percentage = 10\n",
    "train_percentage = 100 - (test_percentage + validation_percentage)\n",
    "\n",
    "test_count = math.floor((len(shuffled_strokes) * test_percentage) / 100)\n",
    "validation_count = math.floor((len(shuffled_strokes) * validation_percentage) / 100)\n",
    "test_strokes = shuffled_strokes[0:test_count]\n",
    "validation_strokes = shuffled_strokes[test_count:(test_count + validation_count)]\n",
    "train_strokes = shuffled_strokes[(test_count + validation_count):]\n",
    "\n",
    "print(\"preparing data...\", TEST_FOLDER)\n",
    "save_strokes_as_images(test_strokes, TEST_FOLDER, IMAGE_WIDTH, IMAGE_HEIGHT, 10)\n",
    "print(\"preparing data...\", VAL_FOLDER)\n",
    "save_strokes_as_images(validation_strokes, VAL_FOLDER, IMAGE_WIDTH, IMAGE_HEIGHT, 0)\n",
    "print(\"preparing data...\", TRAIN_FOLDER)\n",
    "save_strokes_as_images(train_strokes, TRAIN_FOLDER, IMAGE_WIDTH, IMAGE_HEIGHT, 10)"
   ]
  },
  {
   "cell_type": "code",
   "execution_count": 11,
   "metadata": {
    "colab": {
     "base_uri": "https://localhost:8080/"
    },
    "executionInfo": {
     "elapsed": 3475,
     "status": "ok",
     "timestamp": 1638747530290,
     "user": {
      "displayName": "David Davis",
      "photoUrl": "https://lh3.googleusercontent.com/a/default-user=s64",
      "userId": "03716636181783186066"
     },
     "user_tz": 480
    },
    "id": "9-Ttfz7LlPil",
    "outputId": "2e9daa0f-acea-4c5e-c4c3-89a7060f388a"
   },
   "outputs": [
    {
     "name": "stdout",
     "output_type": "stream",
     "text": [
      "Found 55 files belonging to 5 classes.\n",
      "Found 4906 files belonging to 5 classes.\n"
     ]
    }
   ],
   "source": [
    "###############################################\n",
    "## Setup dataset with keras tool\n",
    "###############################################\n",
    "import tensorflow as tf\n",
    "from tensorflow import keras\n",
    "from tensorflow.keras.utils import image_dataset_from_directory\n",
    "\n",
    "validation_ds = image_dataset_from_directory(\n",
    "    directory=VAL_FOLDER,\n",
    "    labels='inferred',\n",
    "    label_mode='categorical',\n",
    "    batch_size=32,\n",
    "    image_size=(IMAGE_WIDTH, IMAGE_HEIGHT)).prefetch(buffer_size=32)\n",
    "\n",
    "train_ds = image_dataset_from_directory(\n",
    "    directory=TRAIN_FOLDER,\n",
    "    labels='inferred',\n",
    "    label_mode='categorical',\n",
    "    batch_size=32,\n",
    "    image_size=(IMAGE_WIDTH, IMAGE_HEIGHT)).prefetch(buffer_size=32)\n"
   ]
  },
  {
   "cell_type": "code",
   "execution_count": 12,
   "metadata": {
    "colab": {
     "base_uri": "https://localhost:8080/",
     "height": 591
    },
    "executionInfo": {
     "elapsed": 1017,
     "status": "ok",
     "timestamp": 1638747597760,
     "user": {
      "displayName": "David Davis",
      "photoUrl": "https://lh3.googleusercontent.com/a/default-user=s64",
      "userId": "03716636181783186066"
     },
     "user_tz": 480
    },
    "id": "Q_vUMVmQn400",
    "outputId": "07159ba4-ee1b-4364-8776-3726db2e0595"
   },
   "outputs": [
    {
     "data": {
      "image/png": "[encoded data removed]",
      "text/plain": [
       "<Figure size 720x720 with 9 Axes>"
      ]
     },
     "metadata": {
      "needs_background": "light"
     },
     "output_type": "display_data"
    }
   ],
   "source": [
    "## (Optional) test dataset\n",
    "import matplotlib.pyplot as plt\n",
    "\n",
    "plt.figure(figsize=(10, 10))\n",
    "for images, labels in train_ds.take(1):\n",
    "  for i in range(9):\n",
    "    ax = plt.subplot(3, 3, i + 1)\n",
    "    ax.set_title(f\"{np.argmax(labels[i])}\")\n",
    "    plt.imshow(images[i].numpy().astype(\"uint8\"))\n",
    "    plt.axis(\"off\")"
   ]
  },
  {
   "cell_type": "code",
   "execution_count": 13,
   "metadata": {
    "executionInfo": {
     "elapsed": 184,
     "status": "ok",
     "timestamp": 1638747856480,
     "user": {
      "displayName": "David Davis",
      "photoUrl": "https://lh3.googleusercontent.com/a/default-user=s64",
      "userId": "03716636181783186066"
     },
     "user_tz": 480
    },
    "id": "21qi3bLAo80t"
   },
   "outputs": [],
   "source": [
    "from keras import layers\n",
    "\n",
    "def make_model(input_shape, num_classes):\n",
    "    inputs = keras.Input(shape=input_shape)\n",
    "\n",
    "    # Entry block\n",
    "    x = layers.Rescaling(1.0 / 255)(inputs)\n",
    "    x = layers.Conv2D(16, 3, strides=2, padding=\"same\")(x)\n",
    "    x = layers.BatchNormalization()(x)\n",
    "    x = layers.Activation(\"relu\")(x)\n",
    "    x = layers.Dropout(0.5)(x)\n",
    "\n",
    "    x = layers.Conv2D(32, 3, strides=2, padding=\"same\")(x)\n",
    "    x = layers.BatchNormalization()(x)\n",
    "    x = layers.Activation(\"relu\")(x)\n",
    "    x = layers.Dropout(0.5)(x)\n",
    "\n",
    "    x = layers.Conv2D(64, 3, strides=2, padding=\"same\")(x)\n",
    "    x = layers.BatchNormalization()(x)\n",
    "    x = layers.Activation(\"relu\")(x)\n",
    "    x = layers.Dropout(0.5)(x)\n",
    "\n",
    "    x = layers.GlobalAveragePooling2D()(x)\n",
    "    activation = \"softmax\"\n",
    "    units = num_classes\n",
    "\n",
    "    x = layers.Dropout(0.5)(x)\n",
    "    outputs = layers.Dense(units, activation=activation)(x)\n",
    "    return keras.Model(inputs, outputs)"
   ]
  },
  {
   "cell_type": "code",
   "execution_count": 14,
   "metadata": {
    "colab": {
     "base_uri": "https://localhost:8080/",
     "height": 1000
    },
    "executionInfo": {
     "elapsed": 822,
     "status": "ok",
     "timestamp": 1638747862714,
     "user": {
      "displayName": "David Davis",
      "photoUrl": "https://lh3.googleusercontent.com/a/default-user=s64",
      "userId": "03716636181783186066"
     },
     "user_tz": 480
    },
    "id": "7DjpCkt0qZiy",
    "outputId": "eb7158b8-b866-455f-e5fb-7dee1fa25e70"
   },
   "outputs": [
    {
     "name": "stdout",
     "output_type": "stream",
     "text": [
      "Training model with 5 classes\n"
     ]
    },
    {
     "data": {
      "image/png": "[encoded data removed]",
      "text/plain": [
       "<IPython.core.display.Image object>"
      ]
     },
     "execution_count": 14,
     "metadata": {},
     "output_type": "execute_result"
    }
   ],
   "source": [
    "# num_classes=len(glob.glob(TRAIN_FOLDER+os.sep+\"*\"+os.sep)) # list class numbers (by dir count)\n",
    "# print(f\"Training model with {num_classes} classes\")\n",
    "print(f\"Training model with {len(LABEL_MAPPING)} classes\")\n",
    "\n",
    "model = make_model(input_shape=(IMAGE_WIDTH, IMAGE_HEIGHT, 3), num_classes=len(LABEL_MAPPING))\n",
    "keras.utils.plot_model(model, show_shapes=True)"
   ]
  },
  {
   "cell_type": "code",
   "execution_count": 15,
   "metadata": {
    "colab": {
     "base_uri": "https://localhost:8080/"
    },
    "executionInfo": {
     "elapsed": 277815,
     "status": "ok",
     "timestamp": 1638748150465,
     "user": {
      "displayName": "David Davis",
      "photoUrl": "https://lh3.googleusercontent.com/a/default-user=s64",
      "userId": "03716636181783186066"
     },
     "user_tz": 480
    },
    "id": "287Am2coqkQC",
    "outputId": "85c947d2-d4d2-47ea-c278-5487002ddf45"
   },
   "outputs": [
    {
     "name": "stdout",
     "output_type": "stream",
     "text": [
      "Epoch 1/30\n",
      "154/154 [==============================] - 2s 11ms/step - loss: 0.5252 - accuracy: 0.3094 - val_loss: 0.5307 - val_accuracy: 0.3273\n",
      "Epoch 2/30\n",
      "154/154 [==============================] - 2s 10ms/step - loss: 0.3883 - accuracy: 0.4951 - val_loss: 0.4759 - val_accuracy: 0.4545\n",
      "Epoch 3/30\n",
      "154/154 [==============================] - 2s 10ms/step - loss: 0.3515 - accuracy: 0.5473 - val_loss: 0.3656 - val_accuracy: 0.5818\n",
      "Epoch 4/30\n",
      "154/154 [==============================] - 2s 10ms/step - loss: 0.3253 - accuracy: 0.5942 - val_loss: 0.3126 - val_accuracy: 0.6727\n",
      "Epoch 5/30\n",
      "154/154 [==============================] - 2s 10ms/step - loss: 0.3036 - accuracy: 0.6380 - val_loss: 0.2792 - val_accuracy: 0.7091\n",
      "Epoch 6/30\n",
      "154/154 [==============================] - 2s 10ms/step - loss: 0.2854 - accuracy: 0.6802 - val_loss: 0.2632 - val_accuracy: 0.7273\n",
      "Epoch 7/30\n",
      "154/154 [==============================] - 2s 10ms/step - loss: 0.2684 - accuracy: 0.7087 - val_loss: 0.2240 - val_accuracy: 0.8182\n",
      "Epoch 8/30\n",
      "154/154 [==============================] - 2s 10ms/step - loss: 0.2568 - accuracy: 0.7364 - val_loss: 0.2479 - val_accuracy: 0.6364\n",
      "Epoch 9/30\n",
      "154/154 [==============================] - 2s 11ms/step - loss: 0.2453 - accuracy: 0.7399 - val_loss: 0.2054 - val_accuracy: 0.9091\n",
      "Epoch 10/30\n",
      "154/154 [==============================] - 2s 10ms/step - loss: 0.2278 - accuracy: 0.7772 - val_loss: 0.1694 - val_accuracy: 0.9273\n",
      "Epoch 11/30\n",
      "154/154 [==============================] - 2s 10ms/step - loss: 0.2213 - accuracy: 0.7876 - val_loss: 0.1641 - val_accuracy: 0.9091\n",
      "Epoch 12/30\n",
      "154/154 [==============================] - 2s 10ms/step - loss: 0.2131 - accuracy: 0.8072 - val_loss: 0.1442 - val_accuracy: 0.9273\n",
      "Epoch 13/30\n",
      "154/154 [==============================] - 2s 10ms/step - loss: 0.2012 - accuracy: 0.8184 - val_loss: 0.1418 - val_accuracy: 0.9273\n",
      "Epoch 14/30\n",
      "154/154 [==============================] - 2s 10ms/step - loss: 0.1950 - accuracy: 0.8278 - val_loss: 0.1931 - val_accuracy: 0.7273\n",
      "Epoch 15/30\n",
      "154/154 [==============================] - 2s 10ms/step - loss: 0.1857 - accuracy: 0.8414 - val_loss: 0.1246 - val_accuracy: 0.9636\n",
      "Epoch 16/30\n",
      "154/154 [==============================] - 2s 10ms/step - loss: 0.1822 - accuracy: 0.8390 - val_loss: 0.1160 - val_accuracy: 0.9455\n",
      "Epoch 17/30\n",
      "154/154 [==============================] - 2s 10ms/step - loss: 0.1756 - accuracy: 0.8449 - val_loss: 0.0991 - val_accuracy: 0.9818\n",
      "Epoch 18/30\n",
      "154/154 [==============================] - 2s 11ms/step - loss: 0.1680 - accuracy: 0.8587 - val_loss: 0.1191 - val_accuracy: 0.9273\n",
      "Epoch 19/30\n",
      "154/154 [==============================] - 2s 11ms/step - loss: 0.1656 - accuracy: 0.8575 - val_loss: 0.1070 - val_accuracy: 0.9636\n",
      "Epoch 20/30\n",
      "154/154 [==============================] - 2s 10ms/step - loss: 0.1632 - accuracy: 0.8598 - val_loss: 0.1049 - val_accuracy: 0.9455\n",
      "Epoch 21/30\n",
      "154/154 [==============================] - 2s 10ms/step - loss: 0.1572 - accuracy: 0.8665 - val_loss: 0.0963 - val_accuracy: 0.9455\n",
      "Epoch 22/30\n",
      "154/154 [==============================] - 2s 11ms/step - loss: 0.1555 - accuracy: 0.8702 - val_loss: 0.0744 - val_accuracy: 0.9636\n",
      "Epoch 23/30\n",
      "154/154 [==============================] - 2s 11ms/step - loss: 0.1546 - accuracy: 0.8718 - val_loss: 0.0813 - val_accuracy: 0.9818\n",
      "Epoch 24/30\n",
      "154/154 [==============================] - 2s 10ms/step - loss: 0.1531 - accuracy: 0.8677 - val_loss: 0.0759 - val_accuracy: 0.9636\n",
      "Epoch 25/30\n",
      "154/154 [==============================] - 2s 10ms/step - loss: 0.1523 - accuracy: 0.8712 - val_loss: 0.0762 - val_accuracy: 0.9818\n",
      "Epoch 26/30\n",
      "154/154 [==============================] - 2s 11ms/step - loss: 0.1500 - accuracy: 0.8716 - val_loss: 0.0649 - val_accuracy: 0.9818\n",
      "Epoch 27/30\n",
      "154/154 [==============================] - 2s 10ms/step - loss: 0.1452 - accuracy: 0.8812 - val_loss: 0.0769 - val_accuracy: 0.9455\n",
      "Epoch 28/30\n",
      "154/154 [==============================] - 2s 11ms/step - loss: 0.1401 - accuracy: 0.8840 - val_loss: 0.0693 - val_accuracy: 0.9636\n",
      "Epoch 29/30\n",
      "154/154 [==============================] - 2s 11ms/step - loss: 0.1370 - accuracy: 0.8899 - val_loss: 0.1093 - val_accuracy: 0.9455\n",
      "Epoch 30/30\n",
      "154/154 [==============================] - 2s 10ms/step - loss: 0.1416 - accuracy: 0.8852 - val_loss: 0.0569 - val_accuracy: 0.9818\n"
     ]
    },
    {
     "data": {
      "text/plain": [
       "<keras.callbacks.History at 0x1a863b62be0>"
      ]
     },
     "execution_count": 15,
     "metadata": {},
     "output_type": "execute_result"
    }
   ],
   "source": [
    "epochs = 30\n",
    "\n",
    "callbacks = [\n",
    "    keras.callbacks.ModelCheckpoint(os.path.join(CHECK_POINT_FOLDER,\"save_at_{epoch}.h5\")),\n",
    "]\n",
    "model.compile(\n",
    "    optimizer=keras.optimizers.Adam(1e-3),\n",
    "    loss=\"binary_crossentropy\",\n",
    "    metrics=[\"accuracy\"],\n",
    ")\n",
    "model.fit(\n",
    "    train_ds, epochs=epochs, callbacks=callbacks, validation_data=validation_ds,\n",
    ")"
   ]
  },
  {
   "cell_type": "code",
   "execution_count": 16,
   "metadata": {
    "colab": {
     "base_uri": "https://localhost:8080/"
    },
    "executionInfo": {
     "elapsed": 367,
     "status": "ok",
     "timestamp": 1638748338964,
     "user": {
      "displayName": "David Davis",
      "photoUrl": "https://lh3.googleusercontent.com/a/default-user=s64",
      "userId": "03716636181783186066"
     },
     "user_tz": 480
    },
    "id": "ocE3kudZq24U",
    "outputId": "cc43a234-3bd4-460d-ef82-806889fc9d38"
   },
   "outputs": [],
   "source": [
    "def predict_image(model, filename):\n",
    "  img = keras.preprocessing.image.load_img(filename, target_size=(IMAGE_WIDTH, IMAGE_HEIGHT))\n",
    "  img_array = keras.preprocessing.image.img_to_array(img)\n",
    "  img_array = tf.expand_dims(img_array, 0)  # Create batch axis\n",
    "  predictions = model.predict(img_array).flatten()\n",
    "  predicted_label_index = np.argmax(predictions)\n",
    "  predicted_score = predictions[predicted_label_index]\n",
    "  return (predicted_label_index, predicted_score)\n"
   ]
  },
  {
   "cell_type": "code",
   "execution_count": 17,
   "metadata": {},
   "outputs": [
    {
     "name": "stdout",
     "output_type": "stream",
     "text": [
      "predict: 0 score: 99.55739974975586\n"
     ]
    }
   ],
   "source": [
    "index, score = predict_image(model, os.path.join(TEST_FOLDER,LABEL_MAPPING[0],\"2.png\"))\n",
    "print(\"predict:\", index, \"score:\", score*100)"
   ]
  },
  {
   "cell_type": "code",
   "execution_count": 18,
   "metadata": {
    "colab": {
     "base_uri": "https://localhost:8080/",
     "height": 83
    },
    "executionInfo": {
     "elapsed": 54380,
     "status": "ok",
     "timestamp": 1638748404260,
     "user": {
      "displayName": "David Davis",
      "photoUrl": "https://lh3.googleusercontent.com/a/default-user=s64",
      "userId": "03716636181783186066"
     },
     "user_tz": 480
    },
    "id": "MYyLaqOYtxTH",
    "outputId": "8c6b1cfc-e51a-461b-d8d6-4064a7f30e61"
   },
   "outputs": [],
   "source": [
    "from IPython.display import Image, display\n",
    "import os\n",
    "def calc_score(model, predict_fn, testfolder):\n",
    "    SCORE_THRESHOLD = 0.75\n",
    "\n",
    "    correct_count = 0\n",
    "    wrong_count = 0\n",
    "    discarded_count = 0\n",
    "\n",
    "    for label_dir in glob.glob(os.path.join(testfolder,\"*\")+os.sep):\n",
    "      # print(label_dir)  # \"Default\\test\\0\", \"Default\\test\\1\"\n",
    "      label = label_dir.replace(testfolder+os.sep, \"\").replace(os.sep,\"\")\n",
    "      for filename in glob.glob(label_dir +os.sep+ \"*.png\"):\n",
    "        index, score = predict_fn(model, filename)\n",
    "        if score < SCORE_THRESHOLD:\n",
    "          discarded_count += 1\n",
    "          continue\n",
    "        if LABEL_MAPPING[index] == label:\n",
    "          correct_count += 1\n",
    "        else:\n",
    "          wrong_count += 1\n",
    "          print(\"%s expected, %s(%d) found with score %f (%s)\" % (label, LABEL_MAPPING[index], index, score, filename))\n",
    "          display(Image(filename=filename, width = 100, height = 100))\n",
    "\n",
    "    correct_percentage = (correct_count / (correct_count + wrong_count)) * 100\n",
    "    print(\"%.1f%% correct (N=%d, %d unknown)\" % (correct_percentage, (correct_count + wrong_count), discarded_count))"
   ]
  },
  {
   "cell_type": "code",
   "execution_count": 19,
   "metadata": {},
   "outputs": [
    {
     "name": "stdout",
     "output_type": "stream",
     "text": [
      "MyFoler\\test\n",
      "down expected, ok(2) found with score 0.963431 (MyFoler\\test\\down\\6_a1.png)\n"
     ]
    },
    {
     "data": {
      "image/png": "[encoded data removed]",
      "text/plain": [
       "<IPython.core.display.Image object>"
      ]
     },
     "metadata": {
      "image/png": {
       "height": 100,
       "width": 100
      }
     },
     "output_type": "display_data"
    },
    {
     "name": "stdout",
     "output_type": "stream",
     "text": [
      "right expected, left(1) found with score 0.914090 (MyFoler\\test\\right\\5_a5.png)\n"
     ]
    },
    {
     "data": {
      "image/png": "[encoded data removed]",
      "text/plain": [
       "<IPython.core.display.Image object>"
      ]
     },
     "metadata": {
      "image/png": {
       "height": 100,
       "width": 100
      }
     },
     "output_type": "display_data"
    },
    {
     "name": "stdout",
     "output_type": "stream",
     "text": [
      "right expected, left(1) found with score 0.898333 (MyFoler\\test\\right\\5_a7.png)\n"
     ]
    },
    {
     "data": {
      "image/png": "[encoded data removed]",
      "text/plain": [
       "<IPython.core.display.Image object>"
      ]
     },
     "metadata": {
      "image/png": {
       "height": 100,
       "width": 100
      }
     },
     "output_type": "display_data"
    },
    {
     "name": "stdout",
     "output_type": "stream",
     "text": [
      "99.5% correct (N=586, 19 unknown)\n",
      "MyFoler\\validation\n",
      "100.0% correct (N=52, 3 unknown)\n",
      "MyFoler\\train\n",
      "down expected, up(4) found with score 0.844231 (MyFoler\\train\\down\\13_a0.png)\n"
     ]
    },
    {
     "data": {
      "image/png": "[encoded data removed]",
      "text/plain": [
       "<IPython.core.display.Image object>"
      ]
     },
     "metadata": {
      "image/png": {
       "height": 100,
       "width": 100
      }
     },
     "output_type": "display_data"
    },
    {
     "name": "stdout",
     "output_type": "stream",
     "text": [
      "down expected, up(4) found with score 0.806503 (MyFoler\\train\\down\\13_a1.png)\n"
     ]
    },
    {
     "data": {
      "image/png": "[encoded data removed]",
      "text/plain": [
       "<IPython.core.display.Image object>"
      ]
     },
     "metadata": {
      "image/png": {
       "height": 100,
       "width": 100
      }
     },
     "output_type": "display_data"
    },
    {
     "name": "stdout",
     "output_type": "stream",
     "text": [
      "down expected, up(4) found with score 0.817342 (MyFoler\\train\\down\\13_a6.png)\n"
     ]
    },
    {
     "data": {
      "image/png": "[encoded data removed]",
      "text/plain": [
       "<IPython.core.display.Image object>"
      ]
     },
     "metadata": {
      "image/png": {
       "height": 100,
       "width": 100
      }
     },
     "output_type": "display_data"
    },
    {
     "name": "stdout",
     "output_type": "stream",
     "text": [
      "down expected, ok(2) found with score 0.973556 (MyFoler\\train\\down\\45_a6.png)\n"
     ]
    },
    {
     "data": {
      "image/png": "[encoded data removed]",
      "text/plain": [
       "<IPython.core.display.Image object>"
      ]
     },
     "metadata": {
      "image/png": {
       "height": 100,
       "width": 100
      }
     },
     "output_type": "display_data"
    },
    {
     "name": "stdout",
     "output_type": "stream",
     "text": [
      "left expected, ok(2) found with score 0.756773 (MyFoler\\train\\left\\102_a2.png)\n"
     ]
    },
    {
     "data": {
      "image/png": "[encoded data removed]",
      "text/plain": [
       "<IPython.core.display.Image object>"
      ]
     },
     "metadata": {
      "image/png": {
       "height": 100,
       "width": 100
      }
     },
     "output_type": "display_data"
    },
    {
     "name": "stdout",
     "output_type": "stream",
     "text": [
      "left expected, ok(2) found with score 0.803587 (MyFoler\\train\\left\\102_a9.png)\n"
     ]
    },
    {
     "data": {
      "image/png": "[encoded data removed]",
      "text/plain": [
       "<IPython.core.display.Image object>"
      ]
     },
     "metadata": {
      "image/png": {
       "height": 100,
       "width": 100
      }
     },
     "output_type": "display_data"
    },
    {
     "name": "stdout",
     "output_type": "stream",
     "text": [
      "left expected, right(3) found with score 0.784518 (MyFoler\\train\\left\\49_a0.png)\n"
     ]
    },
    {
     "data": {
      "image/png": "[encoded data removed]",
      "text/plain": [
       "<IPython.core.display.Image object>"
      ]
     },
     "metadata": {
      "image/png": {
       "height": 100,
       "width": 100
      }
     },
     "output_type": "display_data"
    },
    {
     "name": "stdout",
     "output_type": "stream",
     "text": [
      "left expected, right(3) found with score 0.779061 (MyFoler\\train\\left\\49_a9.png)\n"
     ]
    },
    {
     "data": {
      "image/png": "[encoded data removed]",
      "text/plain": [
       "<IPython.core.display.Image object>"
      ]
     },
     "metadata": {
      "image/png": {
       "height": 100,
       "width": 100
      }
     },
     "output_type": "display_data"
    },
    {
     "name": "stdout",
     "output_type": "stream",
     "text": [
      "right expected, left(1) found with score 0.831281 (MyFoler\\train\\right\\28_a1.png)\n"
     ]
    },
    {
     "data": {
      "image/png": "[encoded data removed]",
      "text/plain": [
       "<IPython.core.display.Image object>"
      ]
     },
     "metadata": {
      "image/png": {
       "height": 100,
       "width": 100
      }
     },
     "output_type": "display_data"
    },
    {
     "name": "stdout",
     "output_type": "stream",
     "text": [
      "right expected, left(1) found with score 0.786968 (MyFoler\\train\\right\\28_a5.png)\n"
     ]
    },
    {
     "data": {
      "image/png": "[encoded data removed]",
      "text/plain": [
       "<IPython.core.display.Image object>"
      ]
     },
     "metadata": {
      "image/png": {
       "height": 100,
       "width": 100
      }
     },
     "output_type": "display_data"
    },
    {
     "name": "stdout",
     "output_type": "stream",
     "text": [
      "right expected, left(1) found with score 0.840874 (MyFoler\\train\\right\\46.png)\n"
     ]
    },
    {
     "data": {
      "image/png": "[encoded data removed]",
      "text/plain": [
       "<IPython.core.display.Image object>"
      ]
     },
     "metadata": {
      "image/png": {
       "height": 100,
       "width": 100
      }
     },
     "output_type": "display_data"
    },
    {
     "name": "stdout",
     "output_type": "stream",
     "text": [
      "right expected, left(1) found with score 0.865740 (MyFoler\\train\\right\\46_a0.png)\n"
     ]
    },
    {
     "data": {
      "image/png": "[encoded data removed]",
      "text/plain": [
       "<IPython.core.display.Image object>"
      ]
     },
     "metadata": {
      "image/png": {
       "height": 100,
       "width": 100
      }
     },
     "output_type": "display_data"
    },
    {
     "name": "stdout",
     "output_type": "stream",
     "text": [
      "right expected, left(1) found with score 0.850235 (MyFoler\\train\\right\\46_a4.png)\n"
     ]
    },
    {
     "data": {
      "image/png": "[encoded data removed]",
      "text/plain": [
       "<IPython.core.display.Image object>"
      ]
     },
     "metadata": {
      "image/png": {
       "height": 100,
       "width": 100
      }
     },
     "output_type": "display_data"
    },
    {
     "name": "stdout",
     "output_type": "stream",
     "text": [
      "right expected, left(1) found with score 0.818906 (MyFoler\\train\\right\\46_a7.png)\n"
     ]
    },
    {
     "data": {
      "image/png": "[encoded data removed]",
      "text/plain": [
       "<IPython.core.display.Image object>"
      ]
     },
     "metadata": {
      "image/png": {
       "height": 100,
       "width": 100
      }
     },
     "output_type": "display_data"
    },
    {
     "name": "stdout",
     "output_type": "stream",
     "text": [
      "right expected, left(1) found with score 0.853409 (MyFoler\\train\\right\\46_a8.png)\n"
     ]
    },
    {
     "data": {
      "image/png": "[encoded data removed]",
      "text/plain": [
       "<IPython.core.display.Image object>"
      ]
     },
     "metadata": {
      "image/png": {
       "height": 100,
       "width": 100
      }
     },
     "output_type": "display_data"
    },
    {
     "name": "stdout",
     "output_type": "stream",
     "text": [
      "right expected, left(1) found with score 0.870299 (MyFoler\\train\\right\\46_a9.png)\n"
     ]
    },
    {
     "data": {
      "image/png": "[encoded data removed]",
      "text/plain": [
       "<IPython.core.display.Image object>"
      ]
     },
     "metadata": {
      "image/png": {
       "height": 100,
       "width": 100
      }
     },
     "output_type": "display_data"
    },
    {
     "name": "stdout",
     "output_type": "stream",
     "text": [
      "right expected, ok(2) found with score 0.792508 (MyFoler\\train\\right\\47_a1.png)\n"
     ]
    },
    {
     "data": {
      "image/png": "[encoded data removed]",
      "text/plain": [
       "<IPython.core.display.Image object>"
      ]
     },
     "metadata": {
      "image/png": {
       "height": 100,
       "width": 100
      }
     },
     "output_type": "display_data"
    },
    {
     "name": "stdout",
     "output_type": "stream",
     "text": [
      "right expected, left(1) found with score 0.753594 (MyFoler\\train\\right\\47_a6.png)\n"
     ]
    },
    {
     "data": {
      "image/png": "[encoded data removed]",
      "text/plain": [
       "<IPython.core.display.Image object>"
      ]
     },
     "metadata": {
      "image/png": {
       "height": 100,
       "width": 100
      }
     },
     "output_type": "display_data"
    },
    {
     "name": "stdout",
     "output_type": "stream",
     "text": [
      "right expected, ok(2) found with score 0.785639 (MyFoler\\train\\right\\54_a8.png)\n"
     ]
    },
    {
     "data": {
      "image/png": "[encoded data removed]",
      "text/plain": [
       "<IPython.core.display.Image object>"
      ]
     },
     "metadata": {
      "image/png": {
       "height": 100,
       "width": 100
      }
     },
     "output_type": "display_data"
    },
    {
     "name": "stdout",
     "output_type": "stream",
     "text": [
      "right expected, left(1) found with score 0.822109 (MyFoler\\train\\right\\56_a4.png)\n"
     ]
    },
    {
     "data": {
      "image/png": "[encoded data removed]",
      "text/plain": [
       "<IPython.core.display.Image object>"
      ]
     },
     "metadata": {
      "image/png": {
       "height": 100,
       "width": 100
      }
     },
     "output_type": "display_data"
    },
    {
     "name": "stdout",
     "output_type": "stream",
     "text": [
      "right expected, left(1) found with score 0.776308 (MyFoler\\train\\right\\72_a9.png)\n"
     ]
    },
    {
     "data": {
      "image/png": "[encoded data removed]",
      "text/plain": [
       "<IPython.core.display.Image object>"
      ]
     },
     "metadata": {
      "image/png": {
       "height": 100,
       "width": 100
      }
     },
     "output_type": "display_data"
    },
    {
     "name": "stdout",
     "output_type": "stream",
     "text": [
      "right expected, left(1) found with score 0.856476 (MyFoler\\train\\right\\83_a0.png)\n"
     ]
    },
    {
     "data": {
      "image/png": "[encoded data removed]",
      "text/plain": [
       "<IPython.core.display.Image object>"
      ]
     },
     "metadata": {
      "image/png": {
       "height": 100,
       "width": 100
      }
     },
     "output_type": "display_data"
    },
    {
     "name": "stdout",
     "output_type": "stream",
     "text": [
      "up expected, ok(2) found with score 0.840606 (MyFoler\\train\\up\\51_a3.png)\n"
     ]
    },
    {
     "data": {
      "image/png": "[encoded data removed]",
      "text/plain": [
       "<IPython.core.display.Image object>"
      ]
     },
     "metadata": {
      "image/png": {
       "height": 100,
       "width": 100
      }
     },
     "output_type": "display_data"
    },
    {
     "name": "stdout",
     "output_type": "stream",
     "text": [
      "up expected, ok(2) found with score 0.840225 (MyFoler\\train\\up\\51_a4.png)\n"
     ]
    },
    {
     "data": {
      "image/png": "[encoded data removed]",
      "text/plain": [
       "<IPython.core.display.Image object>"
      ]
     },
     "metadata": {
      "image/png": {
       "height": 100,
       "width": 100
      }
     },
     "output_type": "display_data"
    },
    {
     "name": "stdout",
     "output_type": "stream",
     "text": [
      "up expected, down(0) found with score 0.762544 (MyFoler\\train\\up\\72_a3.png)\n"
     ]
    },
    {
     "data": {
      "image/png": "[encoded data removed]",
      "text/plain": [
       "<IPython.core.display.Image object>"
      ]
     },
     "metadata": {
      "image/png": {
       "height": 100,
       "width": 100
      }
     },
     "output_type": "display_data"
    },
    {
     "name": "stdout",
     "output_type": "stream",
     "text": [
      "99.5% correct (N=4651, 255 unknown)\n"
     ]
    }
   ],
   "source": [
    "print(TEST_FOLDER)\n",
    "calc_score(model, predict_image, TEST_FOLDER)\n",
    "print(VAL_FOLDER)\n",
    "calc_score(model, predict_image, VAL_FOLDER)\n",
    "print(TRAIN_FOLDER)\n",
    "calc_score(model, predict_image, TRAIN_FOLDER)"
   ]
  },
  {
   "cell_type": "code",
   "execution_count": 20,
   "metadata": {
    "colab": {
     "base_uri": "https://localhost:8080/"
    },
    "executionInfo": {
     "elapsed": 2605,
     "status": "ok",
     "timestamp": 1638748436167,
     "user": {
      "displayName": "David Davis",
      "photoUrl": "https://lh3.googleusercontent.com/a/default-user=s64",
      "userId": "03716636181783186066"
     },
     "user_tz": 480
    },
    "id": "d26wGJn0t20g",
    "outputId": "5d525abe-97bc-4a71-c757-79d8db945d4f"
   },
   "outputs": [
    {
     "name": "stdout",
     "output_type": "stream",
     "text": [
      "INFO:tensorflow:Assets written to: MyFoler\\saved_model\\assets\n"
     ]
    }
   ],
   "source": [
    "model.save(SAVED_MODEL_PATH)"
   ]
  },
  {
   "cell_type": "code",
   "execution_count": 21,
   "metadata": {
    "id": "ki3E7lM_Kr0C"
   },
   "outputs": [],
   "source": [
    "#!curl -L https://storage.googleapis.com/download.tensorflow.org/models/tflite/micro/magic_wand_saved_model_2021_01_02.tgz -o saved_model.tgz\n",
    "#!tar -xzf saved_model.tgz"
   ]
  },
  {
   "cell_type": "code",
   "execution_count": 22,
   "metadata": {
    "colab": {
     "base_uri": "https://localhost:8080/"
    },
    "executionInfo": {
     "elapsed": 3003,
     "status": "ok",
     "timestamp": 1638748457118,
     "user": {
      "displayName": "David Davis",
      "photoUrl": "https://lh3.googleusercontent.com/a/default-user=s64",
      "userId": "03716636181783186066"
     },
     "user_tz": 480
    },
    "id": "t-hU8aU24gbL",
    "outputId": "8b57dc82-3d72-4bd1-988b-b3a8b85cb101"
   },
   "outputs": [
    {
     "name": "stderr",
     "output_type": "stream",
     "text": [
      "WARNING:absl:Buffer deduplication procedure will be skipped when flatbuffer library is not properly loaded\n",
      "WARNING:absl:Buffer deduplication procedure will be skipped when flatbuffer library is not properly loaded\n"
     ]
    },
    {
     "data": {
      "text/plain": [
       "30536"
      ]
     },
     "execution_count": 22,
     "metadata": {},
     "output_type": "execute_result"
    }
   ],
   "source": [
    "converter = tf.lite.TFLiteConverter.from_saved_model(SAVED_MODEL_PATH)\n",
    "model_no_quant_tflite = converter.convert()\n",
    "\n",
    "# Save the model to disk\n",
    "open(FLOAT_TFL_MODEL_PATH, \"wb\").write(model_no_quant_tflite)\n",
    "\n",
    "def representative_dataset():\n",
    "  for filename in glob.glob(TEST_FOLDER+os.sep+\"*\"+os.sep+\"*.png\"):\n",
    "    img = keras.preprocessing.image.load_img(filename, target_size=(IMAGE_WIDTH, IMAGE_HEIGHT))\n",
    "    img_array = keras.preprocessing.image.img_to_array(img)\n",
    "    img_array = tf.expand_dims(img_array, 0)  # Create batch axis      for images, labels in train_ds.take(1):\n",
    "    yield([img_array])\n",
    "# Set the optimization flag.\n",
    "converter.optimizations = [tf.lite.Optimize.DEFAULT]\n",
    "# Enforce integer only quantization\n",
    "converter.target_spec.supported_ops = [tf.lite.OpsSet.TFLITE_BUILTINS_INT8]\n",
    "converter.inference_input_type = tf.int8\n",
    "converter.inference_output_type = tf.int8\n",
    "# Provide a representative dataset to ensure we quantize correctly.\n",
    "converter.representative_dataset = representative_dataset\n",
    "model_tflite = converter.convert()\n",
    "\n",
    "# Save the model to disk\n",
    "open(QUANTIZED_TFL_MODEL_PATH, \"wb\").write(model_tflite)"
   ]
  },
  {
   "cell_type": "code",
   "execution_count": 23,
   "metadata": {
    "executionInfo": {
     "elapsed": 192,
     "status": "ok",
     "timestamp": 1638748759830,
     "user": {
      "displayName": "David Davis",
      "photoUrl": "https://lh3.googleusercontent.com/a/default-user=s64",
      "userId": "03716636181783186066"
     },
     "user_tz": 480
    },
    "id": "w5QZTfwRLFAi"
   },
   "outputs": [],
   "source": [
    "def predict_tflite(tflite_model, filename):\n",
    "  img = keras.preprocessing.image.load_img(filename, target_size=(IMAGE_WIDTH, IMAGE_HEIGHT))\n",
    "  img_array = keras.preprocessing.image.img_to_array(img)\n",
    "  img_array = tf.expand_dims(img_array, 0)\n",
    "\n",
    "  # Initialize the TFLite interpreter\n",
    "  interpreter = tf.lite.Interpreter(model_content=tflite_model)\n",
    "  interpreter.allocate_tensors()\n",
    "\n",
    "  input_details = interpreter.get_input_details()[0]\n",
    "  output_details = interpreter.get_output_details()[0]\n",
    "\n",
    "  # If required, quantize the input layer (from float to integer)\n",
    "  input_scale, input_zero_point = input_details[\"quantization\"]\n",
    "  if (input_scale, input_zero_point) != (0.0, 0):\n",
    "    img_array = np.multiply(img_array, 1.0 / input_scale) + input_zero_point\n",
    "    img_array = img_array.astype(input_details[\"dtype\"])\n",
    "  \n",
    "  # Invoke the interpreter\n",
    "  interpreter.set_tensor(input_details[\"index\"], img_array)\n",
    "  interpreter.invoke()\n",
    "  pred = interpreter.get_tensor(output_details[\"index\"])[0]\n",
    "  \n",
    "  # If required, dequantized the output layer (from integer to float)\n",
    "  output_scale, output_zero_point = output_details[\"quantization\"]\n",
    "  if (output_scale, output_zero_point) != (0.0, 0):\n",
    "    pred = pred.astype(np.float32)\n",
    "    pred = np.multiply((pred - output_zero_point), output_scale)\n",
    "  \n",
    "  predicted_label_index = np.argmax(pred)\n",
    "  predicted_score = pred[predicted_label_index]\n",
    "  return (predicted_label_index, predicted_score)"
   ]
  },
  {
   "cell_type": "code",
   "execution_count": 24,
   "metadata": {
    "colab": {
     "base_uri": "https://localhost:8080/"
    },
    "executionInfo": {
     "elapsed": 137,
     "status": "ok",
     "timestamp": 1638748762171,
     "user": {
      "displayName": "David Davis",
      "photoUrl": "https://lh3.googleusercontent.com/a/default-user=s64",
      "userId": "03716636181783186066"
     },
     "user_tz": 480
    },
    "id": "vtee_WxPMgup",
    "outputId": "0008362b-c68d-408b-efec-b64136898b4a"
   },
   "outputs": [
    {
     "name": "stdout",
     "output_type": "stream",
     "text": [
      "predict: 1 score: 92.82989501953125\n",
      "0.03447556495666504\n"
     ]
    }
   ],
   "source": [
    "import time\n",
    "start_time = time.time()\n",
    "index, score = predict_image(model, os.path.join(TEST_FOLDER,\"left\",\"2.png\"))\n",
    "print(\"predict:\", index, \"score:\", score*100)\n",
    "end_time = time.time()\n",
    "print(end_time-start_time)"
   ]
  },
  {
   "cell_type": "code",
   "execution_count": 25,
   "metadata": {
    "colab": {
     "base_uri": "https://localhost:8080/",
     "height": 83
    },
    "executionInfo": {
     "elapsed": 3912,
     "status": "ok",
     "timestamp": 1638748783929,
     "user": {
      "displayName": "David Davis",
      "photoUrl": "https://lh3.googleusercontent.com/a/default-user=s64",
      "userId": "03716636181783186066"
     },
     "user_tz": 480
    },
    "id": "jdNgTO19PRqO",
    "outputId": "8e6c5f8a-9236-4446-ff31-d5f95e170cee"
   },
   "outputs": [
    {
     "name": "stdout",
     "output_type": "stream",
     "text": [
      "down expected, ok(2) found with score 0.972656 (MyFoler\\test\\down\\6_a1.png)\n"
     ]
    },
    {
     "data": {
      "image/png": "[encoded data removed]",
      "text/plain": [
       "<IPython.core.display.Image object>"
      ]
     },
     "metadata": {
      "image/png": {
       "height": 100,
       "width": 100
      }
     },
     "output_type": "display_data"
    },
    {
     "name": "stdout",
     "output_type": "stream",
     "text": [
      "right expected, left(1) found with score 0.910156 (MyFoler\\test\\right\\5_a5.png)\n"
     ]
    },
    {
     "data": {
      "image/png": "[encoded data removed]",
      "text/plain": [
       "<IPython.core.display.Image object>"
      ]
     },
     "metadata": {
      "image/png": {
       "height": 100,
       "width": 100
      }
     },
     "output_type": "display_data"
    },
    {
     "name": "stdout",
     "output_type": "stream",
     "text": [
      "right expected, left(1) found with score 0.750000 (MyFoler\\test\\right\\5_a6.png)\n"
     ]
    },
    {
     "data": {
      "image/png": "[encoded data removed]",
      "text/plain": [
       "<IPython.core.display.Image object>"
      ]
     },
     "metadata": {
      "image/png": {
       "height": 100,
       "width": 100
      }
     },
     "output_type": "display_data"
    },
    {
     "name": "stdout",
     "output_type": "stream",
     "text": [
      "right expected, left(1) found with score 0.882812 (MyFoler\\test\\right\\5_a7.png)\n"
     ]
    },
    {
     "data": {
      "image/png": "[encoded data removed]",
      "text/plain": [
       "<IPython.core.display.Image object>"
      ]
     },
     "metadata": {
      "image/png": {
       "height": 100,
       "width": 100
      }
     },
     "output_type": "display_data"
    },
    {
     "name": "stdout",
     "output_type": "stream",
     "text": [
      "99.3% correct (N=586, 19 unknown)\n"
     ]
    }
   ],
   "source": [
    "calc_score(model_tflite, predict_tflite, TEST_FOLDER)"
   ]
  },
  {
   "cell_type": "code",
   "execution_count": 26,
   "metadata": {
    "colab": {
     "base_uri": "https://localhost:8080/",
     "height": 173
    },
    "executionInfo": {
     "elapsed": 135,
     "status": "ok",
     "timestamp": 1638748792684,
     "user": {
      "displayName": "David Davis",
      "photoUrl": "https://lh3.googleusercontent.com/a/default-user=s64",
      "userId": "03716636181783186066"
     },
     "user_tz": 480
    },
    "id": "NTjGMU8BPpoz",
    "outputId": "ea56df39-9336-495c-e214-e39f9fcef78e"
   },
   "outputs": [
    {
     "data": {
      "text/html": [
       "<div>\n",
       "<style scoped>\n",
       "    .dataframe tbody tr th:only-of-type {\n",
       "        vertical-align: middle;\n",
       "    }\n",
       "\n",
       "    .dataframe tbody tr th {\n",
       "        vertical-align: top;\n",
       "    }\n",
       "\n",
       "    .dataframe thead th {\n",
       "        text-align: right;\n",
       "    }\n",
       "</style>\n",
       "<table border=\"1\" class=\"dataframe\">\n",
       "  <thead>\n",
       "    <tr style=\"text-align: right;\">\n",
       "      <th></th>\n",
       "      <th>Size</th>\n",
       "      <th></th>\n",
       "    </tr>\n",
       "    <tr>\n",
       "      <th>Model</th>\n",
       "      <th></th>\n",
       "      <th></th>\n",
       "    </tr>\n",
       "  </thead>\n",
       "  <tbody>\n",
       "    <tr>\n",
       "      <th>TensorFlow</th>\n",
       "      <td>664273 bytes</td>\n",
       "      <td></td>\n",
       "    </tr>\n",
       "    <tr>\n",
       "      <th>TensorFlow Lite</th>\n",
       "      <td>98796 bytes</td>\n",
       "      <td>(reduced by 565477 bytes)</td>\n",
       "    </tr>\n",
       "    <tr>\n",
       "      <th>TensorFlow Lite Quantized</th>\n",
       "      <td>30536 bytes</td>\n",
       "      <td>(reduced by 68260 bytes)</td>\n",
       "    </tr>\n",
       "  </tbody>\n",
       "</table>\n",
       "</div>"
      ],
      "text/plain": [
       "                                   Size                           \n",
       "Model                                                             \n",
       "TensorFlow                 664273 bytes                           \n",
       "TensorFlow Lite            98796 bytes   (reduced by 565477 bytes)\n",
       "TensorFlow Lite Quantized   30536 bytes   (reduced by 68260 bytes)"
      ]
     },
     "execution_count": 26,
     "metadata": {},
     "output_type": "execute_result"
    }
   ],
   "source": [
    "import os\n",
    "import pandas as pd\n",
    "\n",
    "def get_dir_size(dir):\n",
    "  size = 0\n",
    "  for f in os.scandir(dir):\n",
    "    if f.is_file():\n",
    "      size += f.stat().st_size\n",
    "    elif f.is_dir():\n",
    "      size += get_dir_size(f.path)\n",
    "  return size\n",
    "\n",
    "# Calculate size\n",
    "size_tf = get_dir_size(SAVED_MODEL_PATH)\n",
    "size_no_quant_tflite = os.path.getsize(FLOAT_TFL_MODEL_PATH)\n",
    "size_tflite = os.path.getsize(QUANTIZED_TFL_MODEL_PATH)\n",
    "\n",
    "# Compare size\n",
    "pd.DataFrame.from_records(\n",
    "    [[\"TensorFlow\", f\"{size_tf} bytes\", \"\"],\n",
    "     [\"TensorFlow Lite\", f\"{size_no_quant_tflite} bytes \", f\"(reduced by {size_tf - size_no_quant_tflite} bytes)\"],\n",
    "     [\"TensorFlow Lite Quantized\", f\"{size_tflite} bytes\", f\"(reduced by {size_no_quant_tflite - size_tflite} bytes)\"]],\n",
    "     columns = [\"Model\", \"Size\", \"\"], index=\"Model\")\n"
   ]
  },
  {
   "cell_type": "markdown",
   "metadata": {},
   "source": [
    "## The following code will convert to TFLM"
   ]
  },
  {
   "cell_type": "code",
   "execution_count": 27,
   "metadata": {
    "colab": {
     "base_uri": "https://localhost:8080/"
    },
    "executionInfo": {
     "elapsed": 12258,
     "status": "ok",
     "timestamp": 1638748913062,
     "user": {
      "displayName": "David Davis",
      "photoUrl": "https://lh3.googleusercontent.com/a/default-user=s64",
      "userId": "03716636181783186066"
     },
     "user_tz": 480
    },
    "id": "mrvnEJLfR8KU",
    "outputId": "fa3461ec-a27f-45c5-f6d0-555d339415cf"
   },
   "outputs": [
    {
     "name": "stderr",
     "output_type": "stream",
     "text": [
      "'apt-get' 不是內部或外部命令、可執行的程式或批次檔。\n",
      "'xxd' 不是內部或外部命令、可執行的程式或批次檔。\n",
      "'sed' 不是內部或外部命令、可執行的程式或批次檔。\n"
     ]
    }
   ],
   "source": [
    "# Install xxd if it is not available\n",
    "!apt-get update && apt-get -qq install xxd\n",
    "# Convert to a C source file, i.e, a TensorFlow Lite for Microcontrollers model\n",
    "!xxd -i {QUANTIZED_TFL_MODEL_PATH} > {TFL_CC_MODEL_PATH}\n",
    "# Update variable names\n",
    "REPLACE_TEXT = QUANTIZED_TFL_MODEL_PATH.replace('/', '_').replace('.', '_')\n",
    "!sed -i 's/'{REPLACE_TEXT}'/g_magic_wand_model_data/g' {TFL_CC_MODEL_PATH}"
   ]
  },
  {
   "cell_type": "code",
   "execution_count": 28,
   "metadata": {
    "colab": {
     "base_uri": "https://localhost:8080/"
    },
    "executionInfo": {
     "elapsed": 339,
     "status": "ok",
     "timestamp": 1638748916580,
     "user": {
      "displayName": "David Davis",
      "photoUrl": "https://lh3.googleusercontent.com/a/default-user=s64",
      "userId": "03716636181783186066"
     },
     "user_tz": 480
    },
    "id": "oazLUtBqWzdJ",
    "outputId": "b6b57fbb-02e9-4972-8bb2-bedc856f0eaa"
   },
   "outputs": [
    {
     "name": "stderr",
     "output_type": "stream",
     "text": [
      "'tail' 不是內部或外部命令、可執行的程式或批次檔。\n"
     ]
    }
   ],
   "source": [
    "# Print the C source file\n",
    "!tail {TFL_CC_MODEL_PATH}"
   ]
  },
  {
   "cell_type": "code",
   "execution_count": null,
   "metadata": {
    "id": "VqN2F42PW-uv"
   },
   "outputs": [],
   "source": []
  }
 ],
 "metadata": {
  "colab": {
   "collapsed_sections": [],
   "name": "Copy of Magic Wand Training",
   "provenance": [
    {
     "file_id": "https://github.com/petewarden/magic_wand/blob/main/train/train_magic_wand_model.ipynb",
     "timestamp": 1638386707719
    }
   ]
  },
  "kernelspec": {
   "display_name": "Python 3 (ipykernel)",
   "language": "python",
   "name": "python3"
  },
  "language_info": {
   "codemirror_mode": {
    "name": "ipython",
    "version": 3
   },
   "file_extension": ".py",
   "mimetype": "text/x-python",
   "name": "python",
   "nbconvert_exporter": "python",
   "pygments_lexer": "ipython3",
   "version": "3.9.7"
  }
 },
 "nbformat": 4,
 "nbformat_minor": 4
}
