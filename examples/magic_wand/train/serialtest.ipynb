{
 "cells": [
  {
   "cell_type": "code",
   "execution_count": 1,
   "id": "a2f763f0-5877-4dd0-bf3b-dd560196571b",
   "metadata": {},
   "outputs": [],
   "source": [
    "# This is identical to training\n",
    "\n",
    "import os\n",
    "# TYPE=\"Default\" #Default, or other custom foldername\n",
    "TYPE=\"MyFoler\"\n",
    "isWINDOWS=True\n",
    "if \"Default\"==TYPE:\n",
    "    ROOT_FOLDER=\"Default\"\n",
    "    LABEL_MAPPING=dict(enumerate([str(i) for i in range(10)]))\n",
    "    \n",
    "else:\n",
    "    ROOT_FOLDER=TYPE\n",
    "    LABEL_MAPPING=dict(enumerate([\"down\", \"left\", \"ok\", \"right\", \"up\"]))\n",
    "    \n",
    "#-------Data    \n",
    "RAW_DATASET_FOLDER=os.path.join(ROOT_FOLDER, \"raw_dataset\")\n",
    "\n",
    "#-------Train\n",
    "VAL_FOLDER=os.path.join(ROOT_FOLDER, \"validation\")\n",
    "TRAIN_FOLDER=os.path.join(ROOT_FOLDER, \"train\")\n",
    "TEST_FOLDER=os.path.join(ROOT_FOLDER, \"test\")\n",
    "CHECK_POINT_FOLDER=os.path.join(ROOT_FOLDER, \"checkpoints\")\n",
    "\n",
    "#-------Model\n",
    "SAVED_MODEL_FILENAME = \"saved_model\"\n",
    "FLOAT_TFL_MODEL_FILENAME = \"float_model.tfl\"\n",
    "QUANTIZED_TFL_MODEL_FILENAME = \"quantized_model.tfl\"\n",
    "TFL_CC_MODEL_FILENAME = \"magic_wand_model_data.cc\"\n",
    "\n",
    "SAVED_MODEL_PATH=os.path.join(ROOT_FOLDER, SAVED_MODEL_FILENAME)\n",
    "FLOAT_TFL_MODEL_PATH=os.path.join(ROOT_FOLDER, FLOAT_TFL_MODEL_FILENAME)\n",
    "QUANTIZED_TFL_MODEL_PATH=os.path.join(ROOT_FOLDER, QUANTIZED_TFL_MODEL_FILENAME)\n",
    "TFL_CC_MODEL_PATH=os.path.join(ROOT_FOLDER, TFL_CC_MODEL_FILENAME)"
   ]
  },
  {
   "cell_type": "code",
   "execution_count": 2,
   "id": "0f38de85-b5ea-4d15-b397-1e9de5f96ac9",
   "metadata": {},
   "outputs": [],
   "source": [
    "# This is identical to training\n",
    "## (Optional) print stroke\n",
    "# import matplotlib.pyplot as plt\n",
    "\n",
    "# def plot_stroke(one_strokes):\n",
    "#   x_array = []\n",
    "#   y_array = []\n",
    "#   for coords in one_strokes:\n",
    "#     x_array.append(coords[\"x\"])\n",
    "#     y_array.append(coords[\"y\"])\n",
    "\n",
    "#   fig = plt.figure(figsize=(24, 6))\n",
    "#   fig.suptitle(\"Test\")\n",
    "\n",
    "#   ax = fig.add_subplot(131)\n",
    "#   ax.set_xlabel('x')\n",
    "#   ax.set_ylabel('y')\n",
    "#   ax.set_xlim(-0.4, 0.4)\n",
    "#   ax.set_ylim(-0.4, 0.4)\n",
    "#   ax.plot(x_array, y_array)\n",
    "\n",
    "#   plt.show()"
   ]
  },
  {
   "cell_type": "code",
   "execution_count": 3,
   "id": "6c514aa1-d332-4c70-b7f1-048a4ab23cdc",
   "metadata": {},
   "outputs": [],
   "source": [
    "# This is identical to training\n",
    "###############################################\n",
    "## Add stroke sequence color\n",
    "###############################################\n",
    "import math\n",
    "import numpy as np\n",
    "import PIL\n",
    "\n",
    "FIXED_POINT = 4096\n",
    "\n",
    "def mul_fp(a, b):\n",
    "  return (a * b) // FIXED_POINT\n",
    "\n",
    "def div_fp(a, b):\n",
    "  if b == 0:\n",
    "    b = 1\n",
    "  return (a * FIXED_POINT) // b\n",
    "\n",
    "def float_to_fp(a):\n",
    "  return math.floor(a * FIXED_POINT)\n",
    "\n",
    "def norm_to_coord_fp(a, range_fp, half_size_fp):\n",
    "  a_fp = float_to_fp(a)\n",
    "  norm_fp = div_fp(a_fp, range_fp)\n",
    "  return mul_fp(norm_fp, half_size_fp) + half_size_fp\n",
    "\n",
    "# 四捨五入 (rounding)\n",
    "def round_fp_to_int(a):\n",
    "  return math.floor((a + (FIXED_POINT / 2)) / FIXED_POINT)\n",
    "\n",
    "def gate(a, min, max):\n",
    "  if a < min:\n",
    "    return min\n",
    "  elif a > max:\n",
    "    return max\n",
    "  else:\n",
    "    return a\n",
    "\n",
    "def rasterize_stroke(stroke_points, x_range, y_range, width, height):\n",
    "  num_channels = 3\n",
    "  buffer_byte_count = height * width * num_channels\n",
    "  buffer = bytearray(buffer_byte_count)\n",
    "\n",
    "  width_fp = width * FIXED_POINT\n",
    "  height_fp = height * FIXED_POINT\n",
    "  half_width_fp = width_fp / 2\n",
    "  half_height_fp = height_fp / 2\n",
    "  x_range_fp = float_to_fp(x_range)\n",
    "  y_range_fp = float_to_fp(y_range)\n",
    "\n",
    "  t_inc_fp = FIXED_POINT // len(stroke_points)\n",
    "\n",
    "  one_half_fp = (FIXED_POINT / 2)\n",
    "\n",
    "  for point_index in range(len(stroke_points) - 1):\n",
    "    start_point = stroke_points[point_index]\n",
    "    end_point = stroke_points[point_index + 1]\n",
    "    start_x_fp = norm_to_coord_fp(start_point[\"x\"], x_range_fp, half_width_fp)\n",
    "    start_y_fp = norm_to_coord_fp(-start_point[\"y\"], y_range_fp, half_height_fp)\n",
    "    end_x_fp = norm_to_coord_fp(end_point[\"x\"], x_range_fp, half_width_fp)\n",
    "    end_y_fp = norm_to_coord_fp(-end_point[\"y\"], y_range_fp, half_height_fp)\n",
    "    delta_x_fp = end_x_fp - start_x_fp\n",
    "    delta_y_fp = end_y_fp - start_y_fp\n",
    "\n",
    "    # This just want to add a Gradient color\n",
    "    # red->green->blue\n",
    "    t_fp = point_index * t_inc_fp\n",
    "    if t_fp < one_half_fp:\n",
    "      local_t_fp = div_fp(t_fp, one_half_fp)\n",
    "      one_minus_t_fp = FIXED_POINT - local_t_fp\n",
    "      red = round_fp_to_int(one_minus_t_fp * 255)\n",
    "      green = round_fp_to_int(local_t_fp * 255)\n",
    "      blue = 0\n",
    "    else:\n",
    "      local_t_fp = div_fp(t_fp - one_half_fp, one_half_fp)\n",
    "      one_minus_t_fp = FIXED_POINT - local_t_fp\n",
    "      red = 0\n",
    "      green = round_fp_to_int(one_minus_t_fp * 255)\n",
    "      blue = round_fp_to_int(local_t_fp * 255)\n",
    "    red = gate(red, 0, 255)\n",
    "    green = gate(green, 0, 255)\n",
    "    blue = gate(blue, 0, 255)\n",
    "\n",
    "    #  mainly horizontal\n",
    "    if abs(delta_x_fp) > abs(delta_y_fp):\n",
    "      line_length = abs(round_fp_to_int(delta_x_fp))\n",
    "      if delta_x_fp > 0:\n",
    "        x_inc_fp = 1 * FIXED_POINT\n",
    "        y_inc_fp = div_fp(delta_y_fp, delta_x_fp)\n",
    "      else:\n",
    "        x_inc_fp = -1 * FIXED_POINT\n",
    "        y_inc_fp = -div_fp(delta_y_fp, delta_x_fp)\n",
    "    #  mainly vertical\n",
    "    else:\n",
    "      line_length = abs(round_fp_to_int(delta_y_fp))\n",
    "      if delta_y_fp > 0:\n",
    "        y_inc_fp = 1 * FIXED_POINT\n",
    "        x_inc_fp = div_fp(delta_x_fp, delta_y_fp)\n",
    "      else:\n",
    "        y_inc_fp = -1 * FIXED_POINT\n",
    "        x_inc_fp = -div_fp(delta_x_fp, delta_y_fp)\n",
    "    for i in range(line_length + 1):\n",
    "      x_fp = start_x_fp + (i * x_inc_fp)\n",
    "      y_fp = start_y_fp + (i * y_inc_fp)\n",
    "      x = round_fp_to_int(x_fp)\n",
    "      y = round_fp_to_int(y_fp)\n",
    "      if (x < 0) or (x >= width) or (y < 0) or (y >= height):\n",
    "        continue\n",
    "      buffer_index = (y * width * num_channels) + (x * num_channels)\n",
    "      buffer[buffer_index + 0] = red\n",
    "      buffer[buffer_index + 1] = green\n",
    "      buffer[buffer_index + 2] = blue\n",
    "  \n",
    "  np_buffer = np.frombuffer(buffer, dtype=np.uint8).reshape(height, width, num_channels)\n",
    "\n",
    "  return np_buffer"
   ]
  },
  {
   "cell_type": "code",
   "execution_count": 4,
   "id": "fbe12b8b-b268-4425-8601-4f6fe9135397",
   "metadata": {},
   "outputs": [],
   "source": [
    "# Slightly modified from training\n",
    "import tensorflow as tf\n",
    "def predict_tflite(tflite_model_path, img_array):\n",
    "  # img = keras.preprocessing.image.load_img(filename, target_size=(IMAGE_WIDTH, IMAGE_HEIGHT))\n",
    "  # img_array = keras.preprocessing.image.img_to_array(img)\n",
    "  img_array = tf.expand_dims(img_array, 0)\n",
    "\n",
    "  # Initialize the TFLite interpreter\n",
    "  interpreter = tf.lite.Interpreter(model_path=tflite_model_path)\n",
    "  interpreter.allocate_tensors()\n",
    "\n",
    "  input_details = interpreter.get_input_details()[0]\n",
    "  output_details = interpreter.get_output_details()[0]\n",
    "\n",
    "  # If required, quantize the input layer (from float to integer)\n",
    "  input_scale, input_zero_point = input_details[\"quantization\"]\n",
    "  if (input_scale, input_zero_point) != (0.0, 0):\n",
    "    img_array = np.multiply(img_array, 1.0 / input_scale) + input_zero_point\n",
    "    img_array = img_array.astype(input_details[\"dtype\"])\n",
    "  \n",
    "  # Invoke the interpreter\n",
    "  interpreter.set_tensor(input_details[\"index\"], img_array)\n",
    "  interpreter.invoke()\n",
    "  pred = interpreter.get_tensor(output_details[\"index\"])[0]\n",
    "  \n",
    "  # If required, dequantized the output layer (from integer to float)\n",
    "  output_scale, output_zero_point = output_details[\"quantization\"]\n",
    "  if (output_scale, output_zero_point) != (0.0, 0):\n",
    "    pred = pred.astype(np.float32)\n",
    "    pred = np.multiply((pred - output_zero_point), output_scale)\n",
    "  \n",
    "  predicted_label_index = np.argmax(pred)\n",
    "  predicted_score = pred[predicted_label_index]\n",
    "  return (predicted_label_index, predicted_score)"
   ]
  },
  {
   "cell_type": "code",
   "execution_count": null,
   "id": "ea9c43fc-b41b-496d-af00-4d683179a519",
   "metadata": {},
   "outputs": [
    {
     "name": "stdout",
     "output_type": "stream",
     "text": [
      "2\n",
      "56\n"
     ]
    },
    {
     "data": {
      "image/png": "[encoded data removed]",
      "text/plain": [
       "<PIL.Image.Image image mode=RGB size=128x128 at 0x1C229DFBF40>"
      ]
     },
     "metadata": {},
     "output_type": "display_data"
    },
    {
     "name": "stdout",
     "output_type": "stream",
     "text": [
      "predict:up(4), score:96.0, cost:5.0ms\n",
      "2\n",
      "63\n"
     ]
    },
    {
     "data": {
      "image/png": "[encoded data removed]",
      "text/plain": [
       "<PIL.Image.Image image mode=RGB size=128x128 at 0x1C23A528F10>"
      ]
     },
     "metadata": {},
     "output_type": "display_data"
    },
    {
     "name": "stdout",
     "output_type": "stream",
     "text": [
      "predict:right(3), score:97.0, cost:6.0ms\n",
      "2\n",
      "55\n"
     ]
    },
    {
     "data": {
      "image/png": "[encoded data removed]",
      "text/plain": [
       "<PIL.Image.Image image mode=RGB size=128x128 at 0x1C2412EE1C0>"
      ]
     },
     "metadata": {},
     "output_type": "display_data"
    },
    {
     "name": "stdout",
     "output_type": "stream",
     "text": [
      "predict:left(1), score:77.0, cost:5.0ms\n",
      "2\n",
      "57\n"
     ]
    },
    {
     "data": {
      "image/png": "[encoded data removed]",
      "text/plain": [
       "<PIL.Image.Image image mode=RGB size=128x128 at 0x1C23A528F10>"
      ]
     },
     "metadata": {},
     "output_type": "display_data"
    },
    {
     "name": "stdout",
     "output_type": "stream",
     "text": [
      "predict:down(0), score:96.0, cost:6.0ms\n",
      "2\n",
      "76\n"
     ]
    },
    {
     "data": {
      "image/png": "[encoded data removed]",
      "text/plain": [
       "<PIL.Image.Image image mode=RGB size=128x128 at 0x1C2412EE1F0>"
      ]
     },
     "metadata": {},
     "output_type": "display_data"
    },
    {
     "name": "stdout",
     "output_type": "stream",
     "text": [
      "predict:ok(2), score:99.0, cost:5.0ms\n",
      "2\n",
      "55\n"
     ]
    },
    {
     "data": {
      "image/png": "[encoded data removed]",
      "text/plain": [
       "<PIL.Image.Image image mode=RGB size=128x128 at 0x1C23A528F10>"
      ]
     },
     "metadata": {},
     "output_type": "display_data"
    },
    {
     "name": "stdout",
     "output_type": "stream",
     "text": [
      "predict:up(4), score:81.0, cost:5.0ms\n"
     ]
    }
   ],
   "source": [
    "import serial\n",
    "import numpy as np\n",
    "import re\n",
    "import time\n",
    "COM_PORT = 'COM7'    # 指定通訊埠名稱\n",
    "BAUD_RATES = 9600    # 設定傳輸速率\n",
    "ser = serial.Serial(COM_PORT, BAUD_RATES)   # 初始化序列通訊埠\n",
    "\n",
    "try:\n",
    "    while True:\n",
    "        while ser.in_waiting:          # 若收到序列資料…\n",
    "            data_raw = ser.readline()  # 讀取一行\n",
    "            data = data_raw.decode()   # 用預設的UTF-8解碼\n",
    "            data2=data.strip()\n",
    "            data2=re.split('[,\\s]', data2)\n",
    "            if 'AAAAA:' == data2[0]:\n",
    "                print(data2[1])\n",
    "                print(data2[2])\n",
    "                one_strokes = [int(i) for i in data2[3:]]\n",
    "                one_strokes = np.array(one_strokes) / 128\n",
    "                strokePoints=[]\n",
    "                for i in range(len(one_strokes)//2):\n",
    "                    strokePoints.append({'x':one_strokes[2*i], \n",
    "                                         'y':one_strokes[2*i+1]\n",
    "                                        })\n",
    "                \n",
    "                \n",
    "                # print(one_strokes)\n",
    "                # plot_stroke(strokePoints)\n",
    "                \n",
    "                raster = rasterize_stroke(strokePoints, 0.5, 0.5, 32, 32)\n",
    "                img = PIL.Image.fromarray(raster).resize((128, 128), PIL.Image.NEAREST)\n",
    "                display(img)\n",
    "                                \n",
    "                start_time = time.time()\n",
    "                index, score = predict_tflite(QUANTIZED_TFL_MODEL_PATH, raster)\n",
    "                end_time = time.time()\n",
    "                print(f\"predict:{LABEL_MAPPING[index]}({index}), score:{score*100*100//100}, cost:{(end_time-start_time)*1000*100//100}ms\")\n",
    "            else:\n",
    "                # print(data)\n",
    "                pass\n",
    "except KeyboardInterrupt as ki:\n",
    "    print(ki)\n",
    "    print('再見！')\n",
    "except Exception as e:\n",
    "    print(e)\n",
    "    ser.close()    # 清除序列通訊物件\n",
    "    print('再見！')\n"
   ]
  },
  {
   "cell_type": "code",
   "execution_count": null,
   "id": "db84ef07-cf9b-47b3-9de2-a62010979c86",
   "metadata": {},
   "outputs": [],
   "source": []
  },
  {
   "cell_type": "code",
   "execution_count": null,
   "id": "f70bd7c6-ebaf-450e-a58f-56303052f472",
   "metadata": {},
   "outputs": [],
   "source": []
  }
 ],
 "metadata": {
  "kernelspec": {
   "display_name": "Python 3 (ipykernel)",
   "language": "python",
   "name": "python3"
  },
  "language_info": {
   "codemirror_mode": {
    "name": "ipython",
    "version": 3
   },
   "file_extension": ".py",
   "mimetype": "text/x-python",
   "name": "python",
   "nbconvert_exporter": "python",
   "pygments_lexer": "ipython3",
   "version": "3.9.7"
  }
 },
 "nbformat": 4,
 "nbformat_minor": 5
}
